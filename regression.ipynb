{
 "cells": [
  {
   "cell_type": "code",
   "execution_count": null,
   "metadata": {},
   "outputs": [],
   "source": [
    "# EXERCISE 2\n",
    "# Using telco_churn database, predict total charges\n",
    "\n",
    "# a. Using the telco_churn database, extract a table for\n",
    "#    each customer with a 2-year contract and include the\n",
    "#    following information customer id, tenure, monthly\n",
    "#    charges, and total charges.\n",
    "\n",
    "# b. Export the table to a csv\n",
    "\n",
    "# c. Create a jupyter notebook titled regression\n",
    "\n",
    "# d. Prepare the Environment\n",
    "\n",
    "# Wrangling\n",
    "import pandas as pd\n",
    "\n",
    "# Exploring\n",
    "import scipy.stats as stats\n",
    "\n",
    "# Visualizing\n",
    "%matplotlib inline\n",
    "import matplotlib.pyplot as plt\n",
    "import seaborn as sns\n",
    "plt.style.use('ggplot')\n",
    "\n",
    "# Modeling\n",
    "import statsmodels.api as sm\n",
    "\n",
    "from scipy.stats import pearsonr\n",
    "\n",
    "from sklearn.model_selection import train_test_split\n",
    "from sklearn.linear_model import LinearRegression\n",
    "from sklearn.metrics import mean_squared_error, r2_score, mean_absolute_error, median_absolute_error"
   ]
  },
  {
   "cell_type": "code",
   "execution_count": null,
   "metadata": {},
   "outputs": [],
   "source": [
    "# e. Read the information from the customers table into a dataframe.\n",
    "path = '~/Documents/_datasci/Github/regression-exercises/'\n",
    "df = pd.read_csv(path + \"telco_churn.csv\")"
   ]
  },
  {
   "cell_type": "code",
   "execution_count": null,
   "metadata": {},
   "outputs": [],
   "source": [
    "df.info()"
   ]
  },
  {
   "cell_type": "code",
   "execution_count": null,
   "metadata": {},
   "outputs": [],
   "source": [
    "# f. How many rows are in your dataframe? 1695\n",
    "     \n",
    "# g. What is the data type of the field containing the customer ids? object (string)\n",
    "\n",
    "# h. Print to the notebook the last 10 rows of your dataframe.\n",
    "df.tail(10)"
   ]
  },
  {
   "cell_type": "code",
   "execution_count": null,
   "metadata": {},
   "outputs": [],
   "source": [
    "df['num_total'] = pd.to_numeric(df.total_charges, errors='coerce')\n",
    "df.info()"
   ]
  },
  {
   "cell_type": "code",
   "execution_count": null,
   "metadata": {},
   "outputs": [],
   "source": [
    "# i. What is the inner quartile range of tenure?\n",
    "#    monthly charges? total charges?\n",
    "iqr_tenure = df.tenure.quantile(.75) - df.tenure.quantile(.25)\n",
    "iqr_monthly_charges = df.monthly_charges.quantile(.75) - df.monthly_charges.quantile(.25)\n",
    "\n",
    "iqr_total_charges = df.num_total.quantile(.75) - df.num_total.quantile(.25)"
   ]
  },
  {
   "cell_type": "code",
   "execution_count": null,
   "metadata": {},
   "outputs": [],
   "source": [
    "print(iqr_tenure)\n",
    "print(iqr_monthly_charges)\n",
    "print(iqr_total_charges)"
   ]
  },
  {
   "cell_type": "code",
   "execution_count": null,
   "metadata": {},
   "outputs": [],
   "source": [
    "# j. How many missing values are in each variable?\n",
    "print(df.isnull().sum())"
   ]
  },
  {
   "cell_type": "code",
   "execution_count": null,
   "metadata": {},
   "outputs": [],
   "source": [
    "# k. Fill any missing values with 0.\n",
    "df.num_total.replace('', 0, inplace=True)"
   ]
  },
  {
   "cell_type": "code",
   "execution_count": null,
   "metadata": {},
   "outputs": [],
   "source": [
    "# TODO: fix above 2k\n",
    "print(df.isnull().sum())"
   ]
  },
  {
   "cell_type": "code",
   "execution_count": null,
   "metadata": {},
   "outputs": [],
   "source": [
    "# l. Show the ditribution of monthly charges through a histogram\n",
    "plt.hist(df.monthly_charges)"
   ]
  },
  {
   "cell_type": "code",
   "execution_count": null,
   "metadata": {},
   "outputs": [],
   "source": [
    "# m. Create a new dataframe that contains tenure, monthly\n",
    "#    charges, and total charges, but not the customer id.\n",
    "\n",
    "new_df = df.drop(columns=['customer_id'])\n",
    "df"
   ]
  },
  {
   "cell_type": "code",
   "execution_count": null,
   "metadata": {},
   "outputs": [],
   "source": [
    "# n. Create a box plot of each variable in your new dataframe.\n",
    "#    This should be a single chart with 3 categorical plots,\n",
    "#    1 each for tenure, monthly charges, total charges.\n",
    "\n",
    "plt.figure(figsize=(8,4))\n",
    "sns.boxplot(data=df)"
   ]
  },
  {
   "cell_type": "code",
   "execution_count": null,
   "metadata": {},
   "outputs": [],
   "source": [
    "# o. Split your data into a test and train dataset.\n",
    "#    Set the random_state to 123. You should end up with 4\n",
    "#    dataframes: X_train, X_test, y_train, y_test.\n",
    "\n",
    "# test_train_split\n",
    "X = df.drop(['num_total','customer_id'], axis=1)\n",
    "y = df[['num_total']]\n",
    "\n",
    "X_train, X_test, y_train, y_test = train_test_split(X, y, train_size=.80, random_state=123)\n",
    "\n",
    "train = pd.concat([X_train, y_train], axis=1)\n",
    "test = pd.concat([X_test, y_test], axis=1)\n",
    "\n",
    "if X_train.shape[0] == y_train.shape[0]:\n",
    "    print(\"X & y train rows ARE equal\")\n",
    "else:\n",
    "    print(\"X & y train rows ARE NOT equal\")\n",
    "\n",
    "\n",
    "if X_test.shape[0] == y_test.shape[0]:\n",
    "    print(\"X & y test rows ARE equal\")\n",
    "else:\n",
    "    print(\"X & y test rows ARE NOT equal\")\n",
    "\n",
    "if train.shape[1] == test.shape[1]:\n",
    "    print(\"Number of columns in train & test ARE equal\")\n",
    "else:\n",
    "    print(\"Number of columns in train & test ARE NOT equal\")\n",
    "\n",
    "train_split = train.shape[0] / (train.shape[0] + test.shape[0])\n",
    "test_split = test.shape[0] / (train.shape[0] + test.shape[0])\n",
    "\n",
    "print(\"Train Split: %.2f\" % train_split)\n",
    "print(\"Test Split: %.2f\" % test_split)"
   ]
  },
  {
   "cell_type": "code",
   "execution_count": null,
   "metadata": {},
   "outputs": [],
   "source": [
    "# EXERCISE 3\n",
    "# Using the in-sample data (X_train and y_train)"
   ]
  },
  {
   "cell_type": "code",
   "execution_count": null,
   "metadata": {},
   "outputs": [],
   "source": [
    "# a. Create a scatterplot for each combination of variables.\n",
    "g = sns.PairGrid(train)\n",
    "g.map_diag(plt.hist)\n",
    "g.map_offdiag(plt.scatter);"
   ]
  },
  {
   "cell_type": "code",
   "execution_count": null,
   "metadata": {},
   "outputs": [],
   "source": [
    "# b. Create a heatmap containing the 3 variables.\n",
    "plt.figure(figsize=(8,4))\n",
    "sns.heatmap(train.corr(), cmap='Blues', annot=True)"
   ]
  },
  {
   "cell_type": "code",
   "execution_count": null,
   "metadata": {},
   "outputs": [],
   "source": [
    "# c. Compute pearson's correlation coefficient and print it's value in the\n",
    "#    sentence \"Pearson's R is ____ with a significance p-value of ____\"\n",
    "columns = ['tenure', 'monthly_charges']\n",
    "for col in columns:\n",
    "    with sns.axes_style('white'):\n",
    "        j = sns.jointplot(col, \"num_total\", data=train, kind='reg', height=5);\n",
    "        j.annotate(stats.pearsonr)\n",
    "        plt.show()"
   ]
  },
  {
   "cell_type": "code",
   "execution_count": null,
   "metadata": {},
   "outputs": [],
   "source": [
    "print('Pearson\\'s R is .95 with a significance p-value of 0.')"
   ]
  },
  {
   "cell_type": "code",
   "execution_count": null,
   "metadata": {},
   "outputs": [],
   "source": [
    "# d. Train (aka fit) a linear regression model,\n",
    "#    modeling total charges as a linear function of tenure.\n",
    "\n",
    "# Create linear regression objects\n",
    "lm1 = LinearRegression()\n",
    "print(lm1)\n",
    "\n",
    "lm1.fit(X_train[['tenure']], y_train)\n",
    "print(lm1)\n",
    "\n",
    "lm1_y_intercept = lm1.intercept_\n",
    "print(lm1_y_intercept)\n",
    "\n",
    "lm1_coefficients = lm1.coef_\n",
    "print(lm1_coefficients)"
   ]
  },
  {
   "cell_type": "code",
   "execution_count": null,
   "metadata": {},
   "outputs": [],
   "source": [
    "# e. What is the y-intercept of the regression line?\n",
    "#    Translate the intercept in plain english,\n",
    "#    i.e. what is means in the context of the data.\n",
    "# f. What the slope of the regression line? Translate\n",
    "#    the slope in plain english, i.e. what is means in\n",
    "#    the context of the data.\n",
    "# g. Write the linear function in the form of y = mx + b\n",
    "#    using the parameters that were estimated from the\n",
    "#    algorithm and the variable names for y and x specific\n",
    "#    to your data.\n",
    "print('Univariate - total_charges = b + m * monthly_charges')\n",
    "print('    y-intercept (b): %.2f' % lm1_y_intercept)\n",
    "print('    coefficient (m): %.2f' % lm1_coefficients[0])"
   ]
  },
  {
   "cell_type": "code",
   "execution_count": null,
   "metadata": {},
   "outputs": [],
   "source": []
  }
 ],
 "metadata": {
  "kernelspec": {
   "display_name": "Python 3",
   "language": "python",
   "name": "python3"
  },
  "language_info": {
   "codemirror_mode": {
    "name": "ipython",
    "version": 3
   },
   "file_extension": ".py",
   "mimetype": "text/x-python",
   "name": "python",
   "nbconvert_exporter": "python",
   "pygments_lexer": "ipython3",
   "version": "3.7.1"
  }
 },
 "nbformat": 4,
 "nbformat_minor": 2
}
